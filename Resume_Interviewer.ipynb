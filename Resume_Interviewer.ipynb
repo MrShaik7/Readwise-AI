{
  "nbformat": 4,
  "nbformat_minor": 0,
  "metadata": {
    "colab": {
      "provenance": [],
      "toc_visible": true,
      "authorship_tag": "ABX9TyM0OnZmyUP0e+CQTQwQWiRE",
      "include_colab_link": true
    },
    "kernelspec": {
      "name": "python3",
      "display_name": "Python 3"
    },
    "language_info": {
      "name": "python"
    }
  },
  "cells": [
    {
      "cell_type": "markdown",
      "metadata": {
        "id": "view-in-github",
        "colab_type": "text"
      },
      "source": [
        "<a href=\"https://colab.research.google.com/github/MrShaik7/Readwise-AI/blob/main/Resume_Interviewer.ipynb\" target=\"_parent\"><img src=\"https://colab.research.google.com/assets/colab-badge.svg\" alt=\"Open In Colab\"/></a>"
      ]
    },
    {
      "cell_type": "code",
      "execution_count": null,
      "metadata": {
        "id": "fTfZgkwbqowg"
      },
      "outputs": [],
      "source": [
        "!pip install -q chromadb sentence-transformers langchain pymupdf"
      ]
    },
    {
      "cell_type": "code",
      "source": [
        "from langchain.document_loaders import PyMuPDFLoader\n",
        "from langchain.text_splitter import RecursiveCharacterTextSplitter\n",
        "\n",
        "# Load PDF\n",
        "pdf_path = \"/content/Obito.pdf\"  # Replace with uploaded filename\n",
        "loader = PyMuPDFLoader(pdf_path)\n",
        "docs = loader.load()\n",
        "\n",
        "# Split text into chunks\n",
        "text_splitter = RecursiveCharacterTextSplitter(chunk_size=200, chunk_overlap=50)\n",
        "chunks = text_splitter.split_documents(docs)\n",
        "\n",
        "# Extract only the text content from documents\n",
        "texts = [chunk.page_content for chunk in chunks]\n",
        "print(f\"Loaded {len(texts)} chunks.\")\n"
      ],
      "metadata": {
        "colab": {
          "base_uri": "https://localhost:8080/"
        },
        "id": "_Nl72oFRq-Z0",
        "outputId": "728063d4-10c9-4875-8272-5b9ba000e324"
      },
      "execution_count": null,
      "outputs": [
        {
          "output_type": "stream",
          "name": "stdout",
          "text": [
            "Loaded 9 chunks.\n"
          ]
        }
      ]
    },
    {
      "cell_type": "code",
      "source": [
        "from sentence_transformers import SentenceTransformer\n",
        "\n",
        "# Load local model\n",
        "embedding_model = SentenceTransformer(\"all-MiniLM-L6-v2\")\n",
        "\n",
        "# Embed all chunks\n",
        "embeddings = embedding_model.encode(texts, convert_to_numpy=True)\n",
        "print(embeddings)"
      ],
      "metadata": {
        "colab": {
          "base_uri": "https://localhost:8080/"
        },
        "id": "mDdLBLptrCMs",
        "outputId": "4aefedd5-1008-4f22-c784-75de947fd83b"
      },
      "execution_count": null,
      "outputs": [
        {
          "output_type": "stream",
          "name": "stdout",
          "text": [
            "[[ 0.0313511   0.02763218 -0.03671879 ...  0.016685    0.00253652\n",
            "  -0.00023822]\n",
            " [-0.00323069 -0.00060114 -0.04327456 ...  0.03043053 -0.01892084\n",
            "  -0.01733786]\n",
            " [ 0.02822407  0.08126036 -0.08495663 ...  0.02161446 -0.01176437\n",
            "  -0.02483589]\n",
            " ...\n",
            " [ 0.02670352  0.09123499 -0.00824031 ...  0.05057378 -0.03555797\n",
            "  -0.07717964]\n",
            " [ 0.00370365  0.12238184 -0.00554004 ...  0.03836922  0.04381477\n",
            "  -0.02464417]\n",
            " [ 0.06595345  0.13885531  0.00420403 ... -0.031712    0.01905151\n",
            "  -0.03286723]]\n"
          ]
        }
      ]
    },
    {
      "cell_type": "code",
      "source": [
        "import chromadb\n",
        "from chromadb.config import Settings\n",
        "\n",
        "# Initialize Chroma in-memory\n",
        "chroma_client = chromadb.Client(Settings())\n",
        "\n",
        "collection = chroma_client.get_or_create_collection(name=\"local_pdf_embeddings\")\n",
        "\n",
        "collection.add(\n",
        "    documents=texts,\n",
        "    embeddings=embeddings.tolist(),\n",
        "    ids=[f\"chunk_{i}\" for i in range(len(texts))]\n",
        ")\n",
        "print(\"Chunks stored in ChromaDB.\")"
      ],
      "metadata": {
        "colab": {
          "base_uri": "https://localhost:8080/"
        },
        "id": "u7lKlQAarVju",
        "outputId": "ddc56ac4-9ad0-4799-f11b-611aad4f0d0a"
      },
      "execution_count": null,
      "outputs": [
        {
          "output_type": "stream",
          "name": "stdout",
          "text": [
            "Chunks stored in ChromaDB.\n"
          ]
        }
      ]
    },
    {
      "cell_type": "code",
      "source": [
        "query = \"What is the main character name?\"\n",
        "\n",
        "query_embedding = embedding_model.encode(query).tolist()\n",
        "\n",
        "results = collection.query(\n",
        "    query_embeddings=[query_embedding],\n",
        "    n_results=5\n",
        ")\n",
        "\n",
        "top_chunks = results['documents'][0]\n",
        "context = \"\\n\\n\".join(top_chunks)\n",
        "\n",
        "print(\"🧠 Retrieved context:\\n\")\n",
        "print(context[:500] + \"\\n...\")\n"
      ],
      "metadata": {
        "colab": {
          "base_uri": "https://localhost:8080/"
        },
        "id": "kI1UtuYarpUp",
        "outputId": "f37ec923-9238-45be-df6f-b8bcc0f35198"
      },
      "execution_count": null,
      "outputs": [
        {
          "output_type": "stream",
          "name": "stdout",
          "text": [
            "🧠 Retrieved context:\n",
            "\n",
            "dream through the Infinite Tsukuyomi.\n",
            " \n",
            "Despite his actions, Obito remains a deeply conflicted character. His inner turmoil and\n",
            "...\n"
          ]
        }
      ]
    }
  ]
}